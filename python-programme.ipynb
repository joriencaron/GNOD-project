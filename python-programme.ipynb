{
 "cells": [
  {
   "cell_type": "code",
   "execution_count": 1,
   "id": "6d78c201",
   "metadata": {},
   "outputs": [],
   "source": [
    "import pandas as pd\n",
    "import numpy as np\n",
    "import matplotlib.pyplot as plt\n",
    "\n",
    "from sklearn import cluster, datasets\n",
    "from sklearn.preprocessing import StandardScaler\n",
    "from matplotlib.lines import Line2D\n",
    "import pickle\n",
    "import random"
   ]
  },
  {
   "cell_type": "code",
   "execution_count": 2,
   "id": "a3d10173",
   "metadata": {},
   "outputs": [],
   "source": [
    "top100 = pd.read_csv('top100.csv').drop(['Unnamed: 0'],axis=1)"
   ]
  },
  {
   "cell_type": "code",
   "execution_count": 3,
   "id": "e67d5b65",
   "metadata": {},
   "outputs": [],
   "source": [
    "cluster_df = pd.read_csv('df_withclusters.csv').drop(['Unnamed: 0'],axis=1)"
   ]
  },
  {
   "cell_type": "code",
   "execution_count": 4,
   "id": "41d5a2cb",
   "metadata": {},
   "outputs": [],
   "source": [
    "song_features_std = pd.read_csv('std_features.csv').drop(['Unnamed: 0'],axis=1)"
   ]
  },
  {
   "cell_type": "code",
   "execution_count": 10,
   "id": "f6ad17f6",
   "metadata": {},
   "outputs": [
    {
     "name": "stdout",
     "output_type": "stream",
     "text": [
      "Please input your Spotify Client ID:304ab0a1525b40dcb500c1301d9b271b\n",
      "Please input your Spotify Secret ID:25d588aa1bb243958059e4c49362f726\n"
     ]
    }
   ],
   "source": [
    "cid = input('Please input your Spotify Client ID:')\n",
    "s_id = input('Please input your Spotify Secret ID:')"
   ]
  },
  {
   "cell_type": "code",
   "execution_count": 11,
   "id": "d8629d7f",
   "metadata": {},
   "outputs": [],
   "source": [
    "import spotipy\n",
    "from spotipy.oauth2 import SpotifyClientCredentials\n",
    "\n",
    "sp = spotipy.Spotify(auth_manager=SpotifyClientCredentials(client_id=cid,\n",
    "                                                           client_secret=s_id))"
   ]
  },
  {
   "cell_type": "code",
   "execution_count": 12,
   "id": "439db16d",
   "metadata": {},
   "outputs": [],
   "source": [
    "kmeans = pickle.load(open('kmean.pkl','rb'))"
   ]
  },
  {
   "cell_type": "code",
   "execution_count": 13,
   "id": "4c6dde6d",
   "metadata": {},
   "outputs": [],
   "source": [
    "scaler = pickle.load(open('scaler.pkl','rb'))"
   ]
  },
  {
   "cell_type": "code",
   "execution_count": 14,
   "id": "41b61cc5",
   "metadata": {},
   "outputs": [],
   "source": [
    "def features(track, artist):\n",
    "    track_id = sp.search(q='artist:' + artist + ' track:' + track, type='track')\n",
    "    uri = track_id[\"tracks\"][\"items\"][0]['id']\n",
    "    features = sp.audio_features(uri)\n",
    "    return features"
   ]
  },
  {
   "cell_type": "code",
   "execution_count": 15,
   "id": "997e7271",
   "metadata": {},
   "outputs": [
    {
     "name": "stdout",
     "output_type": "stream",
     "text": [
      "Welcome Jan, Erin & Fred. This is the GNOD song recommender!\n",
      "Do you want me to recommend a song?(yes/no) yes\n",
      "Enter song: gone\n",
      "Enter artist: Ziggy alberts\n",
      "Your recommendation: Gold - Chet Faker\n",
      "URL: https://open.spotify.com/track/03qDVofuUUQSsSQCLWX0eF\n"
     ]
    }
   ],
   "source": [
    "print('Welcome Jan, Erin & Fred. This is the GNOD song recommender!')\n",
    "answer = input('Do you want me to recommend a song?(yes/no) ').lower()\n",
    "\n",
    "if answer == 'no':\n",
    "    print('Too bad, you missed out on a great song!')\n",
    "\n",
    "else:\n",
    "\n",
    "    new_song = input(\"Enter song: \").lower()\n",
    "    new_artist = input(\"Enter artist: \").lower()\n",
    "\n",
    "    test_entry = sp.search(q=new_song, type='track')\n",
    "    wrong_entry = test_entry[\"tracks\"][\"total\"] \n",
    "\n",
    "    while wrong_entry == 0:\n",
    "        print(\"Song does not exists, try another\")\n",
    "        new_song = input(\"Enter song: \").lower()\n",
    "        new_artist = input(\"Enter artist: \").lower()\n",
    "        test_entry = sp.search(q=new_song, type='track')\n",
    "        wrong_entry = test_entry[\"tracks\"][\"total\"]\n",
    "\n",
    "    if new_song in list(top100['song_title']):\n",
    "        recommendation_hot = random.choice(list(top100['song_title']))\n",
    "        while recommendation_hot == new_song:\n",
    "                recommendation_hot = random.choice(list(top100['song_title']))\n",
    "                print('Your recommendation:', recommendation_hot)\n",
    "    else:\n",
    "        feature = features(new_song, new_artist)\n",
    "        column = list(feature[0].keys())\n",
    "        values = [list(feature[0].values())]\n",
    "        df_new_song = pd.DataFrame(data = feature, columns = column)\n",
    "        df_new_song = df_new_song.drop(['type','id','uri','track_href','analysis_url','time_signature'],axis=1)\n",
    "        std_new_song = scaler.transform(df_new_song)\n",
    "        new_cluster = kmeans.predict(std_new_song)\n",
    "        df_cluster = cluster_df[cluster_df['cluster'] == list(new_cluster)[0]]\n",
    "        \n",
    "        recommendation = random.choice(list(df_cluster['song_and_artist']))\n",
    "        url = df_cluster['url'][df_cluster['song_and_artist'] == recommendation].values[0]\n",
    "\n",
    "        print('Your recommendation:',recommendation)\n",
    "        print('URL:',url)\n",
    "\n"
   ]
  },
  {
   "cell_type": "code",
   "execution_count": null,
   "id": "5de4fc66",
   "metadata": {},
   "outputs": [],
   "source": []
  }
 ],
 "metadata": {
  "kernelspec": {
   "display_name": "Python 3",
   "language": "python",
   "name": "python3"
  },
  "language_info": {
   "codemirror_mode": {
    "name": "ipython",
    "version": 3
   },
   "file_extension": ".py",
   "mimetype": "text/x-python",
   "name": "python",
   "nbconvert_exporter": "python",
   "pygments_lexer": "ipython3",
   "version": "3.8.8"
  }
 },
 "nbformat": 4,
 "nbformat_minor": 5
}
